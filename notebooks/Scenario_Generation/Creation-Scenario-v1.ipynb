{
 "cells": [
  {
   "cell_type": "code",
   "execution_count": null,
   "id": "dd73e66c-c605-4f20-925f-38eed6febffd",
   "metadata": {},
   "outputs": [],
   "source": [
    "import os\n",
    "import pandas as pd\n",
    "import geopandas as gpd\n",
    "import numpy as np\n",
    "import matplotlib.pyplot as plt\n",
    "import seaborn as sns\n",
    "\n",
    "from scipy import stats\n",
    "from numpy.random import Generator, PCG64\n",
    "\n",
    "import tqdm\n",
    "import json\n",
    "import inspect\n",
    "import warnings\n",
    "from IPython.display import display, Markdown, Latex\n",
    "\n",
    "warnings.filterwarnings('ignore')"
   ]
  },
  {
   "cell_type": "code",
   "execution_count": null,
   "id": "eb7beea9-b690-45e3-9ebc-df8d885f641c",
   "metadata": {},
   "outputs": [],
   "source": [
    "import logging\n",
    "logger = logging.getLogger(__name__)\n",
    "logging.basicConfig(level=logging.INFO)"
   ]
  },
  {
   "cell_type": "markdown",
   "id": "38827eae-9333-4fb3-9182-e07a06ace1e2",
   "metadata": {},
   "source": [
    "##### Config"
   ]
  },
  {
   "cell_type": "code",
   "execution_count": null,
   "id": "e0159c3e-a84a-46a5-b13c-61b3b27f6560",
   "metadata": {},
   "outputs": [],
   "source": [
    "pd.set_option(\"display.max_columns\", None)"
   ]
  },
  {
   "cell_type": "code",
   "execution_count": null,
   "id": "075efc67-b2f7-49a9-8f01-b8e538f8f3c5",
   "metadata": {},
   "outputs": [],
   "source": [
    "def get_sample_from_distribution(n_sample, random_state, params):\n",
    "    \"\"\"\n",
    "    Return a sample of size N from de distribution\n",
    "    \"\"\"\n",
    "    scale, loc, b, a = params[\"scale\"], params[\"loc\"], params[\"b\"], params[\"a\"]\n",
    "    #logger.info(f\"param a: {a} \\n param b: {b} \\n param loc: {loc} \\n param scale: {scale}\")\n",
    "    distribution = stats.johnsonsu(a=a, b=b, loc=loc, scale=scale)\n",
    "    #distribution.random_state = random_state\n",
    "    return distribution.rvs(size=n_sample) if not pd.isnull(n_sample) else 0"
   ]
  },
  {
   "cell_type": "code",
   "execution_count": null,
   "id": "ed233463-bff4-4565-85d7-24d39cc3cb98",
   "metadata": {},
   "outputs": [],
   "source": [
    "def create_folder(path):\n",
    "    # Verificar si la carpeta existe\n",
    "    if not os.path.exists(path):\n",
    "        os.makedirs(path)\n",
    "        print(f\"La carpeta {path} ha sido creada.\")\n",
    "    else:\n",
    "        print(f\"La carpeta {path} ya existe.\")"
   ]
  },
  {
   "cell_type": "markdown",
   "id": "88365465-2aaa-4722-b2cf-90b0521f015d",
   "metadata": {},
   "source": [
    "# Data\n",
    "## Daily Demand"
   ]
  },
  {
   "cell_type": "code",
   "execution_count": null,
   "id": "11aea316-f991-472a-981a-29dc36e487b5",
   "metadata": {},
   "outputs": [],
   "source": [
    "raw = pd.read_csv(\"../../data/output_layer_process.csv\")\n",
    "logger.info(f'Quantity of rows input {len(raw.index)}')"
   ]
  },
  {
   "cell_type": "code",
   "execution_count": null,
   "id": "52c8ee10-626a-4446-b0c2-9268da145a95",
   "metadata": {},
   "outputs": [],
   "source": [
    "display(Markdown(f\"#### Quantity of customer by layer-period\"))\n",
    "pd.pivot_table(data=raw, index=[\"year\",\"month\"], columns=[\"layer\"], values=\"cod_customer\", aggfunc=\"count\")"
   ]
  },
  {
   "cell_type": "markdown",
   "id": "771d3df8-5043-42f3-abc7-dda37aa274e9",
   "metadata": {},
   "source": [
    "## Params Distribution"
   ]
  },
  {
   "cell_type": "code",
   "execution_count": null,
   "id": "2b1d125f-dc9b-469c-8953-8f62147b82e5",
   "metadata": {},
   "outputs": [],
   "source": [
    "f = open('../../data/scenario-generation/distribution_params.json')\n",
    "params = json.load(f)\n",
    "#params"
   ]
  },
  {
   "cell_type": "markdown",
   "id": "d107c678-567f-4312-afc5-5f32813ecf10",
   "metadata": {},
   "source": [
    "## Customer per Pixel-Month related to 2022"
   ]
  },
  {
   "cell_type": "code",
   "execution_count": null,
   "id": "cfc9249f-9bd3-4e5f-a739-dbc3479f7a02",
   "metadata": {},
   "outputs": [],
   "source": [
    "display(Markdown(f\"Considerando el año 2022, vamos a samplear tantas veces como clientes tengamos en cada pixel, por cada pixel se sampleara size(pixel) * 12 meses\"))\n",
    "pivot_tbl = pd.pivot_table(data=raw[(raw.year==2022)], index=[\"pixel\"], columns=[\"layer\"], values=\"cod_customer\", aggfunc=\"nunique\")\n",
    "display(pivot_tbl.T)"
   ]
  },
  {
   "cell_type": "markdown",
   "id": "3a77201b-50c0-4c85-84d9-e3c25b2afb21",
   "metadata": {},
   "source": [
    "## A) Layer Low"
   ]
  },
  {
   "cell_type": "code",
   "execution_count": null,
   "id": "96f3105a-e6df-4ab2-8187-73ac965631f9",
   "metadata": {},
   "outputs": [],
   "source": [
    "PERIODS = [i for i in range(1,13)]\n",
    "LAYER=\"low\""
   ]
  },
  {
   "cell_type": "code",
   "execution_count": null,
   "id": "c219e26c-753d-48c1-9611-e33c56696140",
   "metadata": {
    "scrolled": true
   },
   "outputs": [],
   "source": [
    "df_low = pd.DataFrame(pivot_tbl[0]).reset_index()\n",
    "df_low.rename(columns={\n",
    "        0: \"n_customers\",\n",
    "    }, inplace=True\n",
    ")\n",
    "df_low[\"layer\"] = LAYER\n",
    "for period in PERIODS:\n",
    "    #logger.info(f'[PERIOD] {period}')\n",
    "    # set RANDOM STATE\n",
    "    random_state = Generator(PCG64(12345))\n",
    "    # sampling by pixel\n",
    "    df_low[period] = df_low.apply(lambda x: sum(\n",
    "                                        get_sample_from_distribution(\n",
    "                                            n_sample = int(x[\"n_customers\"]), \n",
    "                                            random_state = random_state,\n",
    "                                            params = params[LAYER][str(period)],\n",
    "                                        )\n",
    "                                    ),\n",
    "                                    axis=1\n",
    "                         )\n",
    "    logger.info(f\"[{LAYER}][{period}] average sample {df_low[period].mean()}\" )"
   ]
  },
  {
   "cell_type": "markdown",
   "id": "b7a87865-6296-4618-8cb6-e16e93d9832f",
   "metadata": {},
   "source": [
    "## B) Layer Medium"
   ]
  },
  {
   "cell_type": "code",
   "execution_count": null,
   "id": "cf0a596d-435b-44a7-8f0b-b437d0559c47",
   "metadata": {},
   "outputs": [],
   "source": [
    "PERIODS = [i for i in range(1,13)]\n",
    "LAYER=\"medium\""
   ]
  },
  {
   "cell_type": "code",
   "execution_count": null,
   "id": "c479690f-5253-45b5-8d23-0244a27dab65",
   "metadata": {},
   "outputs": [],
   "source": [
    "df_medium = pd.DataFrame(pivot_tbl[2]).reset_index()\n",
    "df_medium.rename(columns={\n",
    "        2: \"n_customers\",\n",
    "    }, inplace=True\n",
    ")\n",
    "df_medium = df_medium.dropna()\n",
    "df_medium[\"layer\"] = LAYER\n",
    "for period in PERIODS:\n",
    "    #logger.info(f'[PERIOD] {period}')\n",
    "    # set RANDOM STATE\n",
    "    random_state = Generator(PCG64(12345))\n",
    "    # sampling by pixel\n",
    "    df_medium[period] = df_medium.apply(lambda x: sum(\n",
    "                                        get_sample_from_distribution(\n",
    "                                            n_sample = int(x[\"n_customers\"]), \n",
    "                                            random_state = random_state,\n",
    "                                            params = params[LAYER][str(period)],\n",
    "                                        )\n",
    "                                    ),\n",
    "                                    axis=1\n",
    "                         )\n",
    "    logger.info(f\"[{LAYER}][{period}] average sample {df_medium[period].mean()}\" )"
   ]
  },
  {
   "cell_type": "markdown",
   "id": "51338b93-4e30-4b70-9847-69a5eabe853b",
   "metadata": {},
   "source": [
    "## C) Layer high"
   ]
  },
  {
   "cell_type": "code",
   "execution_count": null,
   "id": "d2fd27dd-953e-48dd-9f2b-1fd9c44854e5",
   "metadata": {},
   "outputs": [],
   "source": [
    "PERIODS = [i for i in range(1,13)]\n",
    "LAYER=\"high\""
   ]
  },
  {
   "cell_type": "code",
   "execution_count": null,
   "id": "37c275e9-fd42-49e1-b6e3-c0aaba91e791",
   "metadata": {},
   "outputs": [],
   "source": [
    "df_high = pd.DataFrame(pivot_tbl[1]).reset_index()\n",
    "df_high.rename(columns={\n",
    "        1: \"n_customers\",\n",
    "    }, inplace=True\n",
    ")\n",
    "df_high = df_high.dropna()\n",
    "df_high[\"layer\"] = LAYER\n",
    "for period in PERIODS:\n",
    "    #logger.info(f'[PERIOD] {period}')\n",
    "    # set RANDOM STATE\n",
    "    random_state = Generator(PCG64(12345))\n",
    "    # sampling by pixel\n",
    "    df_high[period] = df_high.apply(lambda x: sum(\n",
    "                                        get_sample_from_distribution(\n",
    "                                            n_sample = int(x[\"n_customers\"]), \n",
    "                                            random_state = random_state,\n",
    "                                            params = params[LAYER][str(period)],\n",
    "                                        )\n",
    "                                    ),\n",
    "                                    axis=1\n",
    "                         )\n",
    "    logger.info(f\"[{LAYER}][{period}] average sample {df_high[period].mean()}\" )"
   ]
  },
  {
   "cell_type": "markdown",
   "id": "66bce481-1695-4bee-80e6-681022969893",
   "metadata": {},
   "source": [
    "## Merge Data"
   ]
  },
  {
   "cell_type": "code",
   "execution_count": null,
   "id": "5d62e13c-696a-4ff5-8402-15d649542dd3",
   "metadata": {},
   "outputs": [],
   "source": [
    "df_output = pd.concat([\n",
    "    df_low,\n",
    "    df_medium,\n",
    "    df_high,\n",
    "    ]\n",
    ").reset_index(drop=True)\n",
    "df_output"
   ]
  },
  {
   "cell_type": "markdown",
   "id": "e81ab941-058b-42a2-9dbc-d98de09d9ea5",
   "metadata": {},
   "source": [
    "# Creation Multiple-Scenario"
   ]
  },
  {
   "cell_type": "code",
   "execution_count": null,
   "id": "86e06831-6b28-43fc-b839-257ee71841c4",
   "metadata": {},
   "outputs": [],
   "source": [
    "N_SCENARIO = 1000\n",
    "PERIODS = [i for i in range(1,13)]\n",
    "LAYERS = [\"low\", \"medium\", \"high\"]"
   ]
  },
  {
   "cell_type": "code",
   "execution_count": null,
   "id": "3375d12e-5c7c-44c4-b103-0163d1a5b30f",
   "metadata": {},
   "outputs": [],
   "source": [
    "path=f'../../data/scenario-generation/scenarios'\n",
    "create_folder(path)\n",
    "\n",
    "pivot_tbl_copy = pivot_tbl.rename(columns={0: \"n_customers_low\", 1:\"n_customers_high\", 2:\"n_customers_medium\"}).copy()\n",
    "for id in range(N_SCENARIO):\n",
    "    logger.info(f\"[scenario {id}] running...\")\n",
    "\n",
    "    output = []\n",
    "    for layer in LAYERS:\n",
    "        df = pd.DataFrame(pivot_tbl_copy[f\"n_customers_{layer}\"]).reset_index(drop=True).copy()\n",
    "        df = df.dropna()\n",
    "        df['layer'] = layer\n",
    "        for period in PERIODS:\n",
    "            df[period] = df.apply(lambda x: sum(\n",
    "                                        get_sample_from_distribution(\n",
    "                                            n_sample = int(x[f\"n_customers_{layer}\"]),\n",
    "                                            random_state = random_state,\n",
    "                                            params = params[layer][str(period)],\n",
    "                                        )\n",
    "                                    ),\n",
    "                                    axis=1\n",
    "                         )\n",
    "            logger.info(f\"[{layer}][{period}] average sample {df[period].mean()}\" )\n",
    "        output.append(df)\n",
    "    df_output = pd.concat(output)\n",
    "    logger.info(f\"[scenario {id}] saving file...\")\n",
    "    df_output.to_csv(f'../../data/scenario-generation/scenarios/scenario_{id}.csv', index=False)"
   ]
  },
  {
   "cell_type": "code",
   "execution_count": null,
   "id": "c1d18abc-cf9e-4519-9576-99833b378ba0",
   "metadata": {},
   "outputs": [],
   "source": []
  }
 ],
 "metadata": {
  "kernelspec": {
   "display_name": "Python 3 (ipykernel)",
   "language": "python",
   "name": "python3"
  },
  "language_info": {
   "codemirror_mode": {
    "name": "ipython",
    "version": 3
   },
   "file_extension": ".py",
   "mimetype": "text/x-python",
   "name": "python",
   "nbconvert_exporter": "python",
   "pygments_lexer": "ipython3",
   "version": "3.9.16"
  }
 },
 "nbformat": 4,
 "nbformat_minor": 5
}
