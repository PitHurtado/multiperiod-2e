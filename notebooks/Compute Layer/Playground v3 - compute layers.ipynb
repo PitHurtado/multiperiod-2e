{
 "cells": [
  {
   "cell_type": "code",
   "execution_count": null,
   "id": "c5581b96",
   "metadata": {},
   "outputs": [],
   "source": [
    "import pandas as pd\n",
    "import geopandas as gpd\n",
    "from matplotlib import pyplot as plt\n",
    "\n",
    "import numpy as np\n",
    "import matplotlib.pyplot as plt\n",
    "from sklearn.cluster import KMeans\n",
    "from sklearn import metrics\n"
   ]
  },
  {
   "cell_type": "code",
   "execution_count": null,
   "id": "a4aa2ba1",
   "metadata": {},
   "outputs": [],
   "source": [
    "import logging\n",
    "logger = logging.getLogger(__name__)\n",
    "logging.basicConfig(level=logging.INFO)"
   ]
  },
  {
   "cell_type": "markdown",
   "id": "45631ae6",
   "metadata": {},
   "source": [
    "#### Configs"
   ]
  },
  {
   "cell_type": "code",
   "execution_count": null,
   "id": "0199dc13",
   "metadata": {},
   "outputs": [],
   "source": [
    "# pd.set_option(\"display.max_columns\", None)\n",
    "# pd.set_option(\"display.max_rows\", None)"
   ]
  },
  {
   "cell_type": "markdown",
   "id": "b469c373",
   "metadata": {},
   "source": [
    "### A. Load data"
   ]
  },
  {
   "cell_type": "code",
   "execution_count": null,
   "id": "66d6e998",
   "metadata": {},
   "outputs": [],
   "source": [
    "raw = pd.read_csv(\"../data/base_customers_all_years_z7.csv\")\n",
    "raw['date'] = pd.to_datetime(raw['date'])\n",
    "raw['year'] = raw['date'].dt.year\n",
    "raw['month'] = raw['date'].dt.month"
   ]
  },
  {
   "cell_type": "markdown",
   "id": "82e213cc",
   "metadata": {},
   "source": [
    "### B. Clean up"
   ]
  },
  {
   "cell_type": "code",
   "execution_count": null,
   "id": "78e10d23",
   "metadata": {},
   "outputs": [],
   "source": [
    "# remove negative demand\n",
    "n_negative = len(raw[raw.demand <=0].index)\n",
    "raw = raw[raw.demand > 0].reset_index(drop=True)\n",
    "logger.info(f\"Quantity of rows with negative demand: {n_negative}\")\n",
    "\n",
    "# compute percentiles\n",
    "percentil_1 = raw['demand'].quantile(0.01)\n",
    "percentil_99_9 = raw['demand'].quantile(0.999)\n",
    "\n",
    "# Filter records\n",
    "n_rows = len(raw.index)\n",
    "n_removed = len(raw[(raw['demand'] < percentil_1) | (raw['demand'] > percentil_99_9)])\n",
    "raw = raw[(raw['demand'] >= percentil_1) & (raw['demand'] < percentil_99_9)].reset_index(drop=True)\n",
    "\n",
    "logger.info(f\"Quantity of rows removed: {n_removed} of total {n_rows}\")"
   ]
  },
  {
   "cell_type": "code",
   "execution_count": null,
   "id": "9079c511",
   "metadata": {},
   "outputs": [],
   "source": [
    "raw_grouped = raw.groupby([\"year\",\"month\",\"cod_customer\",\"lat\",\"lon\"]).agg(demand = (\"demand\",\"sum\"),\n",
    "                                                                            n_dates = (\"date\",\"nunique\")).reset_index()\n",
    "raw_grouped[\"demand\"] = raw_grouped.apply(lambda x: x['demand']/25, axis=1)"
   ]
  },
  {
   "cell_type": "markdown",
   "id": "6eaedbd8",
   "metadata": {},
   "source": [
    "### C. Transform"
   ]
  },
  {
   "cell_type": "code",
   "execution_count": null,
   "id": "ebf8b707",
   "metadata": {
    "scrolled": true
   },
   "outputs": [],
   "source": [
    "# Quantity of customers unique by year\n",
    "raw_grouped.groupby(['year']).agg(n_customers = (\"cod_customer\",\"nunique\"))"
   ]
  },
  {
   "cell_type": "code",
   "execution_count": null,
   "id": "3d6d13bb",
   "metadata": {},
   "outputs": [],
   "source": [
    "raw_grouped_by_customer = raw_grouped.groupby(['year','cod_customer']).agg(demand = (\"demand\",\"sum\"),\n",
    "                                                                            n_dates = (\"n_dates\",\"sum\")).reset_index()"
   ]
  },
  {
   "cell_type": "code",
   "execution_count": null,
   "id": "001b5942",
   "metadata": {},
   "outputs": [],
   "source": [
    "_y1 = set(raw_grouped_by_customer[raw_grouped_by_customer.year==2020]['cod_customer'].unique())\n",
    "_y2 = set(raw_grouped_by_customer[raw_grouped_by_customer.year==2021]['cod_customer'].unique())\n",
    "_y3 = set(raw_grouped_by_customer[(raw_grouped_by_customer.year==2022) & (raw_grouped_by_customer.n_dates >= 12)]['cod_customer'].unique())\n",
    "\n",
    "intersection_y3_y2 = _y3.intersection(_y2)\n",
    "intersection_y3_y1 = _y3.intersection(_y1)\n",
    "\n",
    "logger.info(f\"Quantity of customer from 2022 who have demand-frequency greater than 12 times {len(_y3)}\")\n",
    "logger.info(f\"Quantity of customer from 2022 present in 2021: {len(intersection_y3_y2)} - {(len(intersection_y3_y2) *100/ len(_y3)):.1f}%\")\n",
    "logger.info(f\"Quantity of customer from 2022 present in 2020: {len(intersection_y3_y1)} - {(len(intersection_y3_y1) *100/ len(_y3)):.1f}%\")"
   ]
  },
  {
   "cell_type": "code",
   "execution_count": null,
   "id": "056be550",
   "metadata": {},
   "outputs": [],
   "source": [
    "# we only consider all demands from customers who ever sued in 2023\n",
    "raw_filtered = raw_grouped[raw_grouped.cod_customer.isin(_y3)].reset_index(drop=True)\n",
    "raw_filtered.groupby(['year']).agg(n_customers = (\"cod_customer\",\"nunique\"))"
   ]
  },
  {
   "cell_type": "markdown",
   "id": "386219f6",
   "metadata": {},
   "source": [
    "### D. Exploratory"
   ]
  },
  {
   "cell_type": "markdown",
   "id": "aadec7f6",
   "metadata": {},
   "source": [
    "####  Histogram with daily demand historic (3 years data)"
   ]
  },
  {
   "cell_type": "code",
   "execution_count": null,
   "id": "ba20a704",
   "metadata": {},
   "outputs": [],
   "source": [
    "plt.hist(raw_filtered[\"demand\"], bins=20)\n",
    "plt.xlabel(\"quantity of demand\")\n",
    "plt.ylabel(\"Number of records\")\n",
    "plt.show()"
   ]
  },
  {
   "cell_type": "code",
   "execution_count": null,
   "id": "9d4a9fb6",
   "metadata": {},
   "outputs": [],
   "source": [
    "plt.hist(raw_filtered[\"demand\"], bins=100)\n",
    "plt.xlabel(\"quantity of demand\")\n",
    "plt.yscale(\"log\")\n",
    "plt.ylabel(\"Number of records\")\n",
    "plt.show()"
   ]
  },
  {
   "cell_type": "markdown",
   "id": "c41a939f",
   "metadata": {},
   "source": [
    "# Playground v3\n"
   ]
  },
  {
   "cell_type": "code",
   "execution_count": null,
   "id": "62a632ef",
   "metadata": {},
   "outputs": [],
   "source": [
    "df_customers = raw_filtered.sort_values(by=\"demand\", ascending=1)\n",
    "n_customers = len(df_customers.index)\n",
    "\n",
    "df_customers['demand_daily'] = df_customers['demand']\n",
    "df_customers['demand_daily'] = df_customers['demand_daily'].astype(\"int64\")\n",
    "df_customers = df_customers[df_customers.demand_daily >0].sort_values(by=\"demand_daily\",ascending=True).reset_index()\n",
    "\n",
    "logger.info(f\"N rows: {len(df_customers.index)}\")"
   ]
  },
  {
   "cell_type": "code",
   "execution_count": null,
   "id": "8de9b557",
   "metadata": {},
   "outputs": [],
   "source": [
    "list_demand_daily = df_customers['demand_daily'].to_list()\n",
    "logger.info(f\"rows: {len(list_demand_daily)}\")"
   ]
  },
  {
   "cell_type": "markdown",
   "id": "35c24ad5",
   "metadata": {},
   "source": [
    "## A. Compute number of required layers\n",
    "\n",
    "This approach consider the Kmeans algorithm to compute the ideal number of layer required, we used two metrics to determinate what is the best number of layers"
   ]
  },
  {
   "cell_type": "code",
   "execution_count": null,
   "id": "2f34c8c3",
   "metadata": {},
   "outputs": [],
   "source": [
    "x = list_demand_daily\n",
    "\n",
    "# set seed\n",
    "SEED = 100\n",
    "\n",
    "k_values = range(1, 11)\n",
    "\n",
    "# score: elbow\n",
    "inertia_values = []\n",
    "\n",
    "for k in k_values:\n",
    "    kmeans = KMeans(n_clusters=k, random_state=SEED)\n",
    "    \n",
    "    kmeans.fit(np.array(x).reshape(-1, 1))\n",
    "    inertia_values.append(kmeans.inertia_)\n",
    "\n",
    "# Graficar la curva de la suma de las distancias cuadradas en función de K\n",
    "plt.plot(k_values, inertia_values, 'bx-', label='Elbow')\n",
    "plt.xlabel('Number of layers (K)')\n",
    "plt.ylabel('Inertia')\n",
    "plt.title('Elbow Method')\n",
    "plt.legend()\n",
    "plt.show()"
   ]
  },
  {
   "cell_type": "code",
   "execution_count": null,
   "id": "743302f7",
   "metadata": {},
   "outputs": [],
   "source": [
    "labels_by_k = []\n",
    "for k_selected in [3]:\n",
    "    logger.info(f\"[Layers] Number of layers selected is {k_selected} \\n\")\n",
    "    kmeans = KMeans(n_clusters=k_selected, random_state=SEED)\n",
    "    kmeans.fit(np.array(x).reshape(-1, 1))\n",
    "\n",
    "    labels = kmeans.labels_\n",
    "    centroids = kmeans.cluster_centers_\n",
    "\n",
    "    for k in range(k_selected):\n",
    "        cluster_data = np.array(x)[labels == k]\n",
    "        #print(f\"Cluster {k+1}: {cluster_data}\")\n",
    "        std_dev = np.std(cluster_data)\n",
    "        mean_ = np.mean(cluster_data)\n",
    "        logger.info(\"Layer {0}: Standart Desviation = {1} - Mean = {2}\".format(k+1, std_dev, mean_))\n",
    "        perc = len(cluster_data) * 100 / len(x)\n",
    "        logger.info(f\"Layer {k+1}: number of customers {len(cluster_data)} - {perc:.2f}% of total \\n\")\n",
    "    logger.info(f\"Total customers: {len(x)} \\n\\n\\n\")\n",
    "    labels_by_k.append(labels)"
   ]
  },
  {
   "cell_type": "code",
   "execution_count": null,
   "id": "f7b4c269",
   "metadata": {},
   "outputs": [],
   "source": [
    "df_customers[\"layer_strategy_1\"] = labels_by_k[0] # using 3 layers"
   ]
  },
  {
   "cell_type": "markdown",
   "id": "cdf329c6",
   "metadata": {},
   "source": [
    "## B. Generate Squared - Grid"
   ]
  },
  {
   "cell_type": "code",
   "execution_count": null,
   "id": "e0b26a52-ca93-45e4-9d88-c54825f6b5dc",
   "metadata": {},
   "outputs": [],
   "source": [
    "import os, sys\n",
    "project_home = \"/Users/pitehrhurtado/Documents/Operation-Researchs/clustering_discretization/src\"\n",
    "if project_home not in sys.path:\n",
    "    sys.path = [project_home] + sys.path"
   ]
  },
  {
   "cell_type": "code",
   "execution_count": null,
   "id": "0b5781af",
   "metadata": {},
   "outputs": [],
   "source": [
    "from app.discretization.grid import GridCreator"
   ]
  },
  {
   "cell_type": "code",
   "execution_count": null,
   "id": "d2e717fd",
   "metadata": {},
   "outputs": [],
   "source": [
    "grid_creator = GridCreator(df=df_customers,km_distance=1)"
   ]
  },
  {
   "cell_type": "code",
   "execution_count": null,
   "id": "5a112527",
   "metadata": {},
   "outputs": [],
   "source": [
    "df_output = grid_creator.run()\n",
    "grid_df = grid_creator.geo.copy()"
   ]
  },
  {
   "cell_type": "markdown",
   "id": "5bfb6243",
   "metadata": {},
   "source": [
    "## C. Plot Grid"
   ]
  },
  {
   "cell_type": "code",
   "execution_count": null,
   "id": "bb8046e0",
   "metadata": {},
   "outputs": [],
   "source": [
    "from app.plot_grid.plot_grid import PlotGrid"
   ]
  },
  {
   "cell_type": "code",
   "execution_count": null,
   "id": "4c5324df",
   "metadata": {},
   "outputs": [],
   "source": [
    "plotter = PlotGrid(\n",
    "    grid_geo = grid_df,\n",
    "    df = df_output,\n",
    ")"
   ]
  },
  {
   "cell_type": "code",
   "execution_count": null,
   "id": "322e2999",
   "metadata": {},
   "outputs": [],
   "source": [
    "plotter.plot_density_customer()"
   ]
  },
  {
   "cell_type": "code",
   "execution_count": null,
   "id": "c04c7b61",
   "metadata": {},
   "outputs": [],
   "source": [
    "plotter.plot_grid_by_metric(metric=\"std\")"
   ]
  },
  {
   "cell_type": "markdown",
   "id": "f012f325",
   "metadata": {},
   "source": [
    "## D. Plot Grid by LAYER"
   ]
  },
  {
   "cell_type": "markdown",
   "id": "2d88d678",
   "metadata": {},
   "source": [
    "##### Consideration\n",
    "color orange is used when pixel have number of customer least than 20"
   ]
  },
  {
   "cell_type": "code",
   "execution_count": null,
   "id": "3c304267",
   "metadata": {},
   "outputs": [],
   "source": [
    "def plot_by_layer(layer: int, df: pd.DataFrame, geo: gpd.GeoDataFrame, strategy: str) -> None:\n",
    "    \"\"\"\n",
    "    \"\"\"\n",
    "    df_filtered = df[df[strategy] == layer].reset_index(drop=True)\n",
    "    plotter = PlotGrid(\n",
    "        grid_geo = geo,\n",
    "        df = df_filtered,\n",
    "    )\n",
    "    logger.info(f\"[PLOT-BY-LAYER] Layer {layer} is plotting\")\n",
    "    # n customer per pixel\n",
    "    plotter.plot_density_customer()\n",
    "    \n",
    "    # std per pixel\n",
    "    plotter.plot_grid_by_metric(metric=\"std\")\n",
    "    \n",
    "    # mean per pixel\n",
    "    plotter.plot_grid_by_metric(metric=\"mean\")\n",
    "    "
   ]
  },
  {
   "cell_type": "markdown",
   "id": "d8d9c2e9",
   "metadata": {},
   "source": [
    "# Considering 3-Layers"
   ]
  },
  {
   "cell_type": "code",
   "execution_count": null,
   "id": "58fafb37",
   "metadata": {
    "scrolled": true
   },
   "outputs": [],
   "source": [
    "# LAYER 0\n",
    "plot_by_layer(\n",
    "    layer=0,\n",
    "    df=df_output,\n",
    "    geo=grid_df,\n",
    "    strategy = \"layer_strategy_1\"\n",
    ")"
   ]
  },
  {
   "cell_type": "code",
   "execution_count": null,
   "id": "e1b96737",
   "metadata": {},
   "outputs": [],
   "source": [
    "# LAYER 1\n",
    "plot_by_layer(\n",
    "    layer=1,\n",
    "    df=df_output,\n",
    "    geo=grid_df,\n",
    "    strategy=\"layer_strategy_1\"\n",
    ")"
   ]
  },
  {
   "cell_type": "code",
   "execution_count": null,
   "id": "991a3384-caf9-49b8-b615-9f861cd242a0",
   "metadata": {},
   "outputs": [],
   "source": [
    "# LAYER 2\n",
    "plot_by_layer(\n",
    "    layer=2,\n",
    "    df=df_output,\n",
    "    geo=grid_df,\n",
    "    strategy=\"layer_strategy_1\"\n",
    ")"
   ]
  },
  {
   "cell_type": "code",
   "execution_count": null,
   "id": "70b38d75-8060-4efe-8b06-6f9d0fcbf298",
   "metadata": {},
   "outputs": [],
   "source": [
    "grid_df.rename(columns={\"cell_id\":\"pixel_id\"}, inplace=True)"
   ]
  },
  {
   "cell_type": "code",
   "execution_count": null,
   "id": "b76831f4-06c4-4149-8574-f3f84701f3c7",
   "metadata": {},
   "outputs": [],
   "source": [
    "df_output.drop(['index'], axis=1, inplace=True)\n",
    "df_output.rename(columns={\"layer_strategy_1\":\"layer\"}, inplace=True)"
   ]
  },
  {
   "cell_type": "markdown",
   "id": "0b8da9eb",
   "metadata": {},
   "source": [
    "#### Saving data output"
   ]
  },
  {
   "cell_type": "code",
   "execution_count": null,
   "id": "ca7a3ebe",
   "metadata": {},
   "outputs": [],
   "source": [
    "grid_df.to_file(\"../data/geodf.geojson\", driver='GeoJSON')"
   ]
  },
  {
   "cell_type": "code",
   "execution_count": null,
   "id": "17580ae7",
   "metadata": {},
   "outputs": [],
   "source": [
    "df_output.to_csv(\"../data/output_layer_process.csv\", index=False)"
   ]
  },
  {
   "cell_type": "code",
   "execution_count": null,
   "id": "26dd7e5e",
   "metadata": {},
   "outputs": [],
   "source": []
  }
 ],
 "metadata": {
  "kernelspec": {
   "display_name": "Python 3 (ipykernel)",
   "language": "python",
   "name": "python3"
  },
  "language_info": {
   "codemirror_mode": {
    "name": "ipython",
    "version": 3
   },
   "file_extension": ".py",
   "mimetype": "text/x-python",
   "name": "python",
   "nbconvert_exporter": "python",
   "pygments_lexer": "ipython3",
   "version": "3.9.16"
  }
 },
 "nbformat": 4,
 "nbformat_minor": 5
}
